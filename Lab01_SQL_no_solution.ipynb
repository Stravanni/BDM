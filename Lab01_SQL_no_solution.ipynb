{
  "nbformat": 4,
  "nbformat_minor": 0,
  "metadata": {
    "colab": {
      "provenance": [],
      "toc_visible": true,
      "authorship_tag": "ABX9TyMysCxwm0Kwbf+/I96gsRA+",
      "include_colab_link": true
    },
    "kernelspec": {
      "name": "python3",
      "display_name": "Python 3"
    },
    "language_info": {
      "name": "python"
    }
  },
  "cells": [
    {
      "cell_type": "markdown",
      "metadata": {
        "id": "view-in-github",
        "colab_type": "text"
      },
      "source": [
        "<a href=\"https://colab.research.google.com/github/Stravanni/BDM/blob/main/Lab01_SQL_no_solution.ipynb\" target=\"_parent\"><img src=\"https://colab.research.google.com/assets/colab-badge.svg\" alt=\"Open In Colab\"/></a>"
      ]
    },
    {
      "cell_type": "code",
      "execution_count": null,
      "metadata": {
        "id": "BZv6MVIDisCu"
      },
      "outputs": [],
      "source": [
        "import sqlite3\n",
        "from datetime import datetime, timedelta\n",
        "import random\n",
        "import pandas as pd"
      ]
    },
    {
      "cell_type": "code",
      "source": [
        "import sqlite3\n",
        "from datetime import datetime, timedelta\n",
        "import random\n",
        "\n",
        "# Connect to SQLite database (creates a new database if it doesn't exist)\n",
        "conn = sqlite3.connect('sample_db.sqlite')\n",
        "cursor = conn.cursor()\n",
        "\n",
        "# Create tables\n",
        "cursor.execute(\"\"\"\n",
        "CREATE TABLE CUSTOMER (\n",
        "    NAME TEXT,\n",
        "    CITY TEXT,\n",
        "    REGION TEXT,\n",
        "    COUNTRY TEXT,\n",
        "    PHONE TEXT,\n",
        "    PRIMARY KEY (NAME, CITY)\n",
        ")\n",
        "\"\"\")\n",
        "\n",
        "cursor.execute(\"\"\"\n",
        "CREATE TABLE PRODUCT (\n",
        "    PROD_CODE TEXT PRIMARY KEY,\n",
        "    PRICE REAL,\n",
        "    PROD_TYPE TEXT,\n",
        "    QUANTITY INTEGER\n",
        ")\n",
        "\"\"\")\n",
        "\n",
        "cursor.execute(\"\"\"\n",
        "CREATE TABLE PURCHASE (\n",
        "    CUSTOMER_NAME TEXT,\n",
        "    CUSTOMER_CITY TEXT,\n",
        "    PURCHASE_DATE DATE,\n",
        "    PROD_CODE TEXT NOT NULL,\n",
        "    FOREIGN KEY (CUSTOMER_NAME, CUSTOMER_CITY) REFERENCES CUSTOMER(NAME, CITY),\n",
        "    FOREIGN KEY (PROD_CODE) REFERENCES PRODUCT(PROD_CODE)\n",
        ")\n",
        "\"\"\")\n",
        "\n",
        "# Sample data for CUSTOMER (including Italian customers)\n",
        "customers = [\n",
        "    ('John Doe', 'New York', 'NY', 'USA', '1234567890'),\n",
        "    ('Jane Smith', 'Los Angeles', 'CA', 'USA', '2345678901'),\n",
        "    ('Alice Johnson', 'Chicago', 'IL', 'USA', '3456789012'),\n",
        "    ('Bob Brown', 'Houston', 'TX', 'USA', '4567890123'),\n",
        "    ('Charlie Davis', 'Phoenix', 'AZ', 'USA', '5678901234'),\n",
        "    ('Diana Evans', 'Philadelphia', 'PA', 'USA', '6789012345'),\n",
        "    ('Edward Ford', 'San Antonio', 'TX', 'USA', '7890123456'),\n",
        "    ('Fiona Gray', 'San Diego', 'CA', 'USA', '8901234567'),\n",
        "    ('George Harris', 'Dallas', 'TX', 'USA', '9012345678'),\n",
        "    ('Hannah Irving', 'San Jose', 'CA', 'USA', '0123456789'),\n",
        "    # Italian customers\n",
        "    ('Marco Rossi', 'Rome', 'Lazio', 'Italy', '3901234567'),\n",
        "    ('Giulia Bianchi', 'Milan', 'Lombardy', 'Italy', '3909876543'),\n",
        "    ('Luca Verdi', 'Florence', 'Tuscany', 'Italy', '3905678901'),\n",
        "    ('Sofia Russo', 'Venice', 'Veneto', 'Italy', '3902345678')\n",
        "]\n",
        "\n",
        "# Insert CUSTOMER data\n",
        "cursor.executemany(\"INSERT INTO CUSTOMER VALUES (?, ?, ?, ?, ?)\", customers)\n",
        "\n",
        "# Sample data for PRODUCT (including type A products)\n",
        "products = [\n",
        "    ('P001', 10.99, 'Electronics', 100),\n",
        "    ('P002', 15.99, 'Books', 200),\n",
        "    ('P003', 5.99, 'Groceries', 500),\n",
        "    ('P004', 20.99, 'Clothing', 150),\n",
        "    ('P005', 8.99, 'Home & Kitchen', 300),\n",
        "    ('P006', 12.99, 'Sports', 120),\n",
        "    ('P007', 6.99, 'Beauty', 250),\n",
        "    ('P008', 18.99, 'Toys', 180),\n",
        "    ('P009', 9.99, 'Office Supplies', 400),\n",
        "    ('P010', 25.99, 'Furniture', 80),\n",
        "    # Type A products\n",
        "    ('A001', 30.99, 'A', 50),\n",
        "    ('A002', 45.99, 'A', 75),\n",
        "    ('A003', 22.99, 'A', 100)\n",
        "]\n",
        "\n",
        "# Insert PRODUCT data\n",
        "cursor.executemany(\"INSERT INTO PRODUCT VALUES (?, ?, ?, ?)\", products)\n",
        "\n",
        "# Generate PURCHASE data\n",
        "purchases = []\n",
        "start_date = datetime(2023, 1, 1)\n",
        "end_date = datetime(2023, 12, 31)\n",
        "for _ in range(120):  # Generate 120 purchases\n",
        "    customer = random.choice(customers)\n",
        "    product = random.choice(products)\n",
        "    purchase_date = start_date + timedelta(days=random.randint(0, (end_date - start_date).days))\n",
        "    purchases.append((customer[0], customer[1], purchase_date.strftime('%Y-%m-%d'), product[0]))\n",
        "\n",
        "# Ensure some type A products are purchased\n",
        "type_a_products = [p for p in products if p[2] == 'A']\n",
        "for _ in range(20):  # Add 20 purchases of type A products\n",
        "    customer = random.choice(customers)\n",
        "    product = random.choice(type_a_products)\n",
        "    purchase_date = start_date + timedelta(days=random.randint(0, (end_date - start_date).days))\n",
        "    purchases.append((customer[0], customer[1], purchase_date.strftime('%Y-%m-%d'), product[0]))\n",
        "\n",
        "# Insert PURCHASE data\n",
        "cursor.executemany(\"INSERT INTO PURCHASE VALUES (?, ?, ?, ?)\", purchases)\n",
        "\n",
        "# Commit the changes\n",
        "conn.commit()\n",
        "\n",
        "# Verify data insertion\n",
        "print(\"CUSTOMER table:\")\n",
        "cursor.execute(\"SELECT * FROM CUSTOMER\")\n",
        "for row in cursor.fetchall():\n",
        "    print(row)\n",
        "\n",
        "print(\"\\nPRODUCT table:\")\n",
        "cursor.execute(\"SELECT * FROM PRODUCT\")\n",
        "for row in cursor.fetchall():\n",
        "    print(row)\n",
        "\n",
        "print(\"\\nPURCHASE table:\")\n",
        "cursor.execute(\"SELECT * FROM PURCHASE\")\n",
        "for row in cursor.fetchall():\n",
        "    print(row)\n",
        "\n",
        "# Close the connection\n",
        "conn.close()"
      ],
      "metadata": {
        "id": "x2rEFSv_jFFD"
      },
      "execution_count": null,
      "outputs": []
    },
    {
      "cell_type": "code",
      "source": [
        "# Connect to SQLite database (creates a new database if it doesn't exist)\n",
        "conn = sqlite3.connect('sample_db.sqlite')\n",
        "cursor = conn.cursor()\n",
        "\n",
        "# Add new customers from Modena\n",
        "modena_customers = [\n",
        "    ('Renato Ferretti', 'Modena', 'Emilia-Romagna', 'Italy', '3901122334'),\n",
        "    ('Stanis La Rochelle', 'Modena', 'Emilia-Romagna', 'Italy', '3904455667'),\n",
        "    ('Mariano Giusti', 'Modena', 'Emilia-Romagna', 'Italy', '3907788990')\n",
        "]\n",
        "\n",
        "# Insert new Modena customers\n",
        "cursor.executemany(\"INSERT OR IGNORE INTO CUSTOMER VALUES (?, ?, ?, ?, ?)\", modena_customers)\n",
        "\n",
        "# Get all products for random selection\n",
        "cursor.execute(\"SELECT PROD_CODE FROM PRODUCT\")\n",
        "all_products = [row[0] for row in cursor.fetchall()]\n",
        "\n",
        "# Generate purchases for Modena customers\n",
        "modena_purchases = []\n",
        "start_date = datetime(2023, 1, 1)\n",
        "end_date = datetime(2023, 12, 31)\n",
        "\n",
        "for customer in modena_customers:\n",
        "    for _ in range(5):  # Each Modena customer makes 5 purchases\n",
        "        product = random.choice(all_products)\n",
        "        purchase_date = start_date + timedelta(days=random.randint(0, (end_date - start_date).days))\n",
        "        modena_purchases.append((customer[0], customer[1], purchase_date.strftime('%Y-%m-%d'), product))\n",
        "\n",
        "# Insert Modena purchases\n",
        "cursor.executemany(\"INSERT INTO PURCHASE VALUES (?, ?, ?, ?)\", modena_purchases)\n",
        "\n",
        "# Commit the changes\n",
        "conn.commit()"
      ],
      "metadata": {
        "id": "6FqdxlbknTMT"
      },
      "execution_count": null,
      "outputs": []
    },
    {
      "cell_type": "code",
      "source": [
        "# Connect to SQLite database\n",
        "conn = sqlite3.connect('sample_db.sqlite')\n",
        "cursor = conn.cursor()\n",
        "\n",
        "# New unsold products to add\n",
        "new_unsold_products = [\n",
        "    ('U001', 35.99, 'Electronics', 50),\n",
        "    ('U002', 19.99, 'Books', 100),\n",
        "    ('U003', 7.99, 'Phone', 200)\n",
        "]\n",
        "\n",
        "# Insert new unsold products into the PRODUCT table\n",
        "cursor.executemany(\"\"\"\n",
        "INSERT INTO PRODUCT (PROD_CODE, PRICE, PROD_TYPE, QUANTITY)\n",
        "VALUES (?, ?, ?, ?)\n",
        "\"\"\", new_unsold_products)\n",
        "\n",
        "# Commit the changes\n",
        "conn.commit()"
      ],
      "metadata": {
        "id": "p9Sfb2FZpUZr"
      },
      "execution_count": null,
      "outputs": []
    },
    {
      "cell_type": "code",
      "source": [
        "# Connect to SQLite database\n",
        "conn = sqlite3.connect('sample_db.sqlite')\n",
        "cursor = conn.cursor()\n",
        "\n",
        "# New customers who have never made a purchase\n",
        "new_non_purchasing_customers = [\n",
        "    ('Duccio Patané', 'Turin', 'Piedmont', 'Italy', '3901234567'),\n",
        "    ('Sergio Vannucci', 'Bologna', 'Emilia-Romagna', 'Italy', '3909876543'),\n",
        "    ('Diego Lopez', 'Madrid', '', 'Spain', '3305678901'),\n",
        "    ('Arianna DellArti', 'Miami', 'FL', 'USA', '3055551234'),\n",
        "    ('Corinna Negri', 'Seattle', 'WA', 'USA', '2065559876')\n",
        "]\n",
        "\n",
        "# Insert new non-purchasing customers into the CUSTOMER table\n",
        "cursor.executemany(\"\"\"\n",
        "INSERT OR IGNORE INTO CUSTOMER (NAME, CITY, REGION, COUNTRY, PHONE)\n",
        "VALUES (?, ?, ?, ?, ?)\n",
        "\"\"\", new_non_purchasing_customers)\n",
        "\n",
        "# Commit the changes\n",
        "conn.commit()"
      ],
      "metadata": {
        "id": "ctOkI6zyqk0l"
      },
      "execution_count": null,
      "outputs": []
    },
    {
      "cell_type": "markdown",
      "source": [
        "# Queries\n",
        "## Select the customers (all the fields) with the country ‘Italy’  "
      ],
      "metadata": {
        "id": "BKBAqNqhklQP"
      }
    },
    {
      "cell_type": "code",
      "source": [
        "# Connect to SQLite database (creates a new database if it doesn't exist)\n",
        "conn = sqlite3.connect('sample_db.sqlite')\n",
        "cursor = conn.cursor()\n",
        "\n",
        "print(\"\\nCustomers from Italy:\")\n",
        "cursor.execute(\"SELECT * FROM CUSTOMER WHERE COUNTRY = 'Italy'\")\n",
        "italian_customers = cursor.fetchall()\n",
        "\n",
        "# print italian_customers to datafame\n",
        "df = pd.DataFrame(italian_customers, columns=['Name', 'City', 'Region', 'Country', 'Phone'])\n",
        "\n",
        "# Close the connection\n",
        "conn.close()\n",
        "\n",
        "df"
      ],
      "metadata": {
        "id": "9bgZHvE3jVUg"
      },
      "execution_count": null,
      "outputs": []
    },
    {
      "cell_type": "markdown",
      "source": [
        "## List the regions for which exist at least one customer  "
      ],
      "metadata": {
        "id": "8n47Iw3Ykxp1"
      }
    },
    {
      "cell_type": "code",
      "source": [
        "conn = sqlite3.connect('sample_db.sqlite')\n",
        "cursor = conn.cursor()\n",
        "\n",
        "\n",
        "cursor.execute('''\n",
        "\n",
        "''')\n",
        "results = cursor.fetchall()\n",
        "\n",
        "\n",
        "# print results as dataframe\n",
        "df = pd.DataFrame(results, columns=['Region'])\n",
        "\n",
        "\n",
        "# Close the connection\n",
        "conn.close()\n",
        "\n",
        "df"
      ],
      "metadata": {
        "id": "UI6IWRUtkL9i"
      },
      "execution_count": null,
      "outputs": []
    },
    {
      "cell_type": "markdown",
      "source": [
        "## Select the customers who have made at least one purchase  "
      ],
      "metadata": {
        "id": "RlzSeSellDTA"
      }
    },
    {
      "cell_type": "code",
      "source": [
        "conn = sqlite3.connect('sample_db.sqlite')\n",
        "cursor = conn.cursor()\n",
        "\n",
        "\n",
        "cursor.execute('''\n",
        "SELECT DISTINCT CUSTOMER.*\n",
        "FROM CUSTOMER\n",
        "JOIN PURCHASE ON PURCHASE.CUSTOMER_NAME = CUSTOMER.NAME\n",
        "AND PURCHASE.CUSTOMER_CITY = CUSTOMER.CITY\n",
        "''')\n",
        "## With Aliases:\n",
        "# SELECT DISTINCT C.*\n",
        "# FROM CUSTOMER C JOIN PURCHASE P\n",
        "# ON P.CUSTOMER_NAME = C.NAME AND P.CUSTOMER_CITY = C.CITY\n",
        "\n",
        "results = cursor.fetchall()\n",
        "\n",
        "# print results as dataframe\n",
        "print(\"\\nCustomers who have made at least one purchase:\")\n",
        "df = pd.DataFrame(results, columns=['Name', 'City', 'Region', 'Country', 'Phone'])\n",
        "\n",
        "# Close the connection\n",
        "conn.close()\n",
        "\n",
        "df"
      ],
      "metadata": {
        "id": "bDSaZTqjk7pz"
      },
      "execution_count": null,
      "outputs": []
    },
    {
      "cell_type": "markdown",
      "source": [],
      "metadata": {
        "id": "mxKxT-kxlEiC"
      }
    },
    {
      "cell_type": "code",
      "source": [
        "conn = sqlite3.connect('sample_db.sqlite')\n",
        "cursor = conn.cursor()\n",
        "\n",
        "\n",
        "# Select the customers who have purchased at least one product of type ‘A’\n",
        "cursor.execute('''\n",
        "SELECT DISTINCT CUSTOMER.*\n",
        "FROM CUSTOMER\n",
        "JOIN PURCHASE ON PURCHASE.CUSTOMER_NAME = CUSTOMER.NAME\n",
        "AND PURCHASE.CUSTOMER_CITY = CUSTOMER.CITY\n",
        "JOIN PRODUCT ON PRODUCT.PROD_CODE = PURCHASE.PROD_CODE\n",
        "WHERE PRODUCT.PROD_TYPE = 'A'\n",
        "''')\n",
        "\n",
        "results = cursor.fetchall()\n",
        "\n",
        "# print results as dataframe\n",
        "print(\"\\nCustomers who have purchased at least one product of type 'A':\")\n",
        "df = pd.DataFrame(results, columns=['Name', 'City', 'Region', 'Country', 'Phone'])\n",
        "\n",
        "# Close the connection\n",
        "conn.close()\n",
        "\n",
        "df"
      ],
      "metadata": {
        "id": "VPz_pN4jlEs-"
      },
      "execution_count": null,
      "outputs": []
    },
    {
      "cell_type": "markdown",
      "source": [
        "## Select purchases made by customers of ‘Modena'   "
      ],
      "metadata": {
        "id": "5HpXcooylFGz"
      }
    },
    {
      "cell_type": "code",
      "source": [
        "conn = sqlite3.connect('sample_db.sqlite')\n",
        "cursor = conn.cursor()\n",
        "\n",
        "# Select purchases made by customers of ‘Modena'\n",
        "cursor.execute('''\n",
        "\n",
        "''')\n",
        "results = cursor.fetchall()\n",
        "\n",
        "# print results as dataframe\n",
        "print(\"\\nPurchases made by customers of 'Modena':\")\n",
        "df = pd.DataFrame(results, columns=['Name', 'City', 'Region', 'Country', 'Phone'])\n",
        "\n",
        "# Close the connection\n",
        "conn.close()\n",
        "\n",
        "df"
      ],
      "metadata": {
        "id": "ZqabLGG1lFOj"
      },
      "execution_count": null,
      "outputs": []
    },
    {
      "cell_type": "markdown",
      "source": [
        "## List purchases made by italian customers (country = ‘Italy’)  "
      ],
      "metadata": {
        "id": "AHDnQFuBlFvb"
      }
    },
    {
      "cell_type": "code",
      "source": [
        "conn = sqlite3.connect('sample_db.sqlite')\n",
        "cursor = conn.cursor()\n",
        "\n",
        "# List purchases made by italian customers (country = ‘Italy’)\n",
        "cursor.execute('''\n",
        "\n",
        "''')\n",
        "results = cursor.fetchall()\n",
        "\n",
        "# print results as dataframe\n",
        "print(\"\\nPurchases made by italian customers (country = 'Italy'):\")\n",
        "df = pd.DataFrame(results, columns=['Customer Name', 'Customer City', 'Purchase Date', 'Product Code'])\n",
        "\n",
        "# Close the connection\n",
        "conn.close()\n",
        "\n",
        "df"
      ],
      "metadata": {
        "id": "rOmWgwxTlF4D"
      },
      "execution_count": null,
      "outputs": []
    },
    {
      "cell_type": "markdown",
      "source": [
        "# List purchases made by italian customers (country = ‘Italy’) of products with ‘A’ type"
      ],
      "metadata": {
        "id": "1ZCyU9_-laFM"
      }
    },
    {
      "cell_type": "code",
      "source": [
        "conn = sqlite3.connect('sample_db.sqlite')\n",
        "cursor = conn.cursor()\n",
        "\n",
        "# List purchases made by italian customers (country = ‘Italy’) of products with ‘A’ type\n",
        "cursor.execute('''\n",
        "\n",
        "''')\n",
        "results = cursor.fetchall()\n",
        "\n",
        "# print results as dataframe\n",
        "print(\"\\nPurchases made by italian customers (country = 'Italy') of products with 'A' type:\")\n",
        "df = pd.DataFrame(results, columns=['Customer Name', 'Customer City', 'Purchase Date', 'Product Code'])\n",
        "\n",
        "# Close the connection\n",
        "conn.close()\n",
        "\n",
        "df"
      ],
      "metadata": {
        "id": "0jsGTONWlaMX"
      },
      "execution_count": null,
      "outputs": []
    },
    {
      "cell_type": "code",
      "source": [
        "## List the products never sold, i.e. the products for which there are no purchases"
      ],
      "metadata": {
        "id": "I4I0hmsXoIQO"
      },
      "execution_count": null,
      "outputs": []
    },
    {
      "cell_type": "markdown",
      "source": [],
      "metadata": {
        "id": "inyJvHYAlamC"
      }
    },
    {
      "cell_type": "code",
      "source": [
        "conn = sqlite3.connect('sample_db.sqlite')\n",
        "cursor = conn.cursor()\n",
        "\n",
        "# List the products never sold, i.e. the products for which there are no purchases\n",
        "cursor.execute('''\n",
        "\n",
        "''')\n",
        "results = cursor.fetchall()\n",
        "\n",
        "# print results as dataframe\n",
        "\n",
        "# Close the connection\n",
        "conn.close()\n",
        "\n",
        "df"
      ],
      "metadata": {
        "id": "gesFKgB-lavG"
      },
      "execution_count": null,
      "outputs": []
    },
    {
      "cell_type": "markdown",
      "source": [
        "## List the types of unsold products, i.e. the X types for which exists at least one product of type X which was never sold."
      ],
      "metadata": {
        "id": "pVOsFTpxlbHH"
      }
    },
    {
      "cell_type": "code",
      "source": [
        "conn = sqlite3.connect('sample_db.sqlite')\n",
        "cursor = conn.cursor()\n",
        "\n",
        "# List the types of unsold products, i.e. the X types for which exists at least one product of type X which was never sold.\n",
        "cursor.execute('''\n",
        "\n",
        "''')\n",
        "results = cursor.fetchall()\n",
        "\n",
        "# print results as dataframe\n",
        "print(\"\\nTypes of unsold products:\")\n",
        "df = pd.DataFrame(results, columns=['Product Type'])\n",
        "\n",
        "# Close the connection\n",
        "conn.close()\n",
        "\n",
        "df"
      ],
      "metadata": {
        "id": "oXLJEsH0lbPH"
      },
      "execution_count": null,
      "outputs": []
    },
    {
      "cell_type": "markdown",
      "source": [
        "## List the unsold types, i.e. the types X for which do not exist any product of type X that was sold  "
      ],
      "metadata": {
        "id": "e5npZv_XoshX"
      }
    },
    {
      "cell_type": "code",
      "source": [
        "conn = sqlite3.connect('sample_db.sqlite')\n",
        "cursor = conn.cursor()\n",
        "\n",
        "# List the unsold types, i.e. the types X for which do not exist any product of type X that was sold\n",
        "cursor.execute('''\n",
        "\n",
        "''')\n",
        "results = cursor.fetchall()\n",
        "\n",
        "# alternative\n",
        "# SELECT PROD_TYPE\n",
        "# FROM PRODUCT X\n",
        "# WHERE NOT EXISTS (\n",
        "#     SELECT *\n",
        "# \tFROM PRODUCT P, PURCHASE PR\n",
        "# \tWHERE PR.PROD_CODE = P.PROD_CODE\n",
        "# \tAND P.PROD_TYPE = X.PROD_TYPE)\n",
        "\n",
        "\n",
        "# print results as dataframe\n",
        "print(\"\\nUnsold types:\")\n",
        "df = pd.DataFrame(results, columns=['Product Type'])\n",
        "\n",
        "# Close the connection\n",
        "conn.close()\n",
        "\n",
        "df"
      ],
      "metadata": {
        "id": "2oscmDExoso5"
      },
      "execution_count": null,
      "outputs": []
    },
    {
      "cell_type": "markdown",
      "source": [
        "## List the customers who have never made a purchase  "
      ],
      "metadata": {
        "id": "yaf6z_LRos_W"
      }
    },
    {
      "cell_type": "code",
      "source": [
        "conn = sqlite3.connect('sample_db.sqlite')\n",
        "cursor = conn.cursor()\n",
        "\n",
        "# List the customers who have never made a purchase\n",
        "cursor.execute('''\n",
        "\n",
        "''')\n",
        "results = cursor.fetchall()\n",
        "\n",
        "# print results as dataframe\n",
        "print(\"\\nCustomers who have never made a purchase:\")\n",
        "df = pd.DataFrame(results, columns=['Name', 'City', 'Region', 'Country', 'Phone'])\n",
        "\n",
        "# Close the connection\n",
        "conn.close()\n",
        "\n",
        "df"
      ],
      "metadata": {
        "id": "gFkDF0NtotG2"
      },
      "execution_count": null,
      "outputs": []
    },
    {
      "cell_type": "markdown",
      "source": [
        "## List the names of the customers who have never made a purchase  "
      ],
      "metadata": {
        "id": "IVFSkWqCotdm"
      }
    },
    {
      "cell_type": "code",
      "source": [
        "conn = sqlite3.connect('sample_db.sqlite')\n",
        "cursor = conn.cursor()\n",
        "\n",
        "# List the names of the customers who have never made a purchase\n",
        "# WRONG:\n",
        "cursor.execute('''\n",
        "\n",
        "''')\n",
        "results = cursor.fetchall()\n",
        "\n",
        "# CORRECT:\n",
        "# SELECT C.NAME\n",
        "# FROM CUSTOMER C\n",
        "# WHERE NOT EXISTS (\n",
        "# \tSELECT *\n",
        "# \tFROM PURCHASE P\n",
        "#     WHERE P.CUSTOMER_NAME = C.NAME\n",
        "#     AND P.CUSTOMER_CITY = C.CITY)\n",
        "\n",
        "# print results as dataframe\n",
        "print(\"\\nCustomers who have never made a purchase:\")\n",
        "df = pd.DataFrame(results, columns=['Name'])\n",
        "\n",
        "# Close the connection\n",
        "conn.close()\n",
        "\n",
        "df"
      ],
      "metadata": {
        "id": "ct51Vk2xotlU"
      },
      "execution_count": null,
      "outputs": []
    },
    {
      "cell_type": "markdown",
      "source": [
        "## List the countries of the customers who have never made a purchase"
      ],
      "metadata": {
        "id": "AzeEmK4Vot6_"
      }
    },
    {
      "cell_type": "code",
      "source": [
        "conn = sqlite3.connect('sample_db.sqlite')\n",
        "cursor = conn.cursor()\n",
        "\n",
        "\n",
        "cursor.execute('''\n",
        "\n",
        "''')\n",
        "results = cursor.fetchall()\n",
        "\n",
        "# print results as dataframe\n",
        "print(\"\\nCountries of customers who have never made a purchase:\")\n",
        "df = pd.DataFrame(results, columns=['Country'])\n",
        "\n",
        "# Close the connection\n",
        "conn.close()\n",
        "\n",
        "df"
      ],
      "metadata": {
        "id": "QcZYmxemouBv"
      },
      "execution_count": null,
      "outputs": []
    },
    {
      "cell_type": "markdown",
      "source": [
        "## List the countries without purchases, i.e. the countries X for which any customer of the country X has never made a purchase."
      ],
      "metadata": {
        "id": "jLpHtq-mrE3z"
      }
    },
    {
      "cell_type": "code",
      "source": [
        "conn = sqlite3.connect('sample_db.sqlite')\n",
        "cursor = conn.cursor()\n",
        "\n",
        "\n",
        "cursor.execute('''\n",
        "\n",
        "''')\n",
        "results = cursor.fetchall()\n",
        "\n",
        "# print results as dataframe\n",
        "print(\"\\nCountries without purchases:\")\n",
        "df = pd.DataFrame(results, columns=['Country'])\n",
        "\n",
        "# Close the connection\n",
        "conn.close()\n",
        "\n",
        "df"
      ],
      "metadata": {
        "id": "orlF1QV4rE_G"
      },
      "execution_count": null,
      "outputs": []
    },
    {
      "cell_type": "markdown",
      "source": [
        "## List, for each customer, the total number of his purchases"
      ],
      "metadata": {
        "id": "J3S77vAkrFXG"
      }
    },
    {
      "cell_type": "code",
      "source": [
        "conn = sqlite3.connect('sample_db.sqlite')\n",
        "cursor = conn.cursor()\n",
        "\n",
        "\n",
        "cursor.execute('''\n",
        "\n",
        "''')\n",
        "results = cursor.fetchall()\n",
        "\n",
        "# print results as dataframe\n",
        "print(\"\\nTotal number of purchases for each customer:\")\n",
        "df = pd.DataFrame(results, columns=['Customer Name', 'Customer City', 'Number of Purchases'])\n",
        "\n",
        "# Close the connection\n",
        "conn.close()\n",
        "\n",
        "df"
      ],
      "metadata": {
        "id": "Imi-boUorFhQ"
      },
      "execution_count": null,
      "outputs": []
    },
    {
      "cell_type": "markdown",
      "source": [
        "## List, for every CUSTOMER_CITY, the total number of purchases of the product with code 1001"
      ],
      "metadata": {
        "id": "U6KpqXKgrF6i"
      }
    },
    {
      "cell_type": "code",
      "source": [
        "conn = sqlite3.connect('sample_db.sqlite')\n",
        "cursor = conn.cursor()\n",
        "\n",
        "\n",
        "cursor.execute('''\n",
        "\n",
        "''')\n",
        "results = cursor.fetchall()\n",
        "\n",
        "# print results as dataframe\n",
        "print(\"\\nTotal number of purchases for every CUSTOMER_CITY of the product with code 1001:\")\n",
        "df = pd.DataFrame(results, columns=['Customer City', 'Number of Purchases'])\n",
        "\n",
        "# Close the connection\n",
        "conn.close()\n",
        "\n",
        "df"
      ],
      "metadata": {
        "id": "NWzgGGQ5rGDE"
      },
      "execution_count": null,
      "outputs": []
    },
    {
      "cell_type": "markdown",
      "source": [
        "## List, for every Country, the total number of purchases."
      ],
      "metadata": {
        "id": "oYU994X2tVra"
      }
    },
    {
      "cell_type": "code",
      "source": [
        "conn = sqlite3.connect('sample_db.sqlite')\n",
        "cursor = conn.cursor()\n",
        "\n",
        "\n",
        "cursor.execute('''\n",
        "\n",
        "''')\n",
        "results = cursor.fetchall()\n",
        "\n",
        "# print results as dataframe\n",
        "print(\"\\nTotal number of purchases for every Country:\")\n",
        "df = pd.DataFrame(results, columns=['Country', 'Number of Purchases'])\n",
        "\n",
        "# Close the connection\n",
        "conn.close()\n",
        "\n",
        "df"
      ],
      "metadata": {
        "id": "x_DRNBrbtV1M"
      },
      "execution_count": null,
      "outputs": []
    },
    {
      "cell_type": "markdown",
      "source": [
        "## List, for every Country, the total number of purchases, retrieving also the countries without purchases (the results should show 0 for that countries)"
      ],
      "metadata": {
        "id": "TxG4Z74HtWC8"
      }
    },
    {
      "cell_type": "code",
      "source": [
        "conn = sqlite3.connect('sample_db.sqlite')\n",
        "cursor = conn.cursor()\n",
        "\n",
        "cursor.execute('''\n",
        "\n",
        "''')\n",
        "results = cursor.fetchall()\n",
        "\n",
        "# print results as dataframe\n",
        "print(\"\\nTotal number of purchases for every Country, including countries without purchases:\")\n",
        "df = pd.DataFrame(results, columns=['Country', 'Number of Purchases'])\n",
        "\n",
        "# Close the connection\n",
        "conn.close()\n",
        "\n",
        "df"
      ],
      "metadata": {
        "id": "pLJ99kCgtWLR"
      },
      "execution_count": null,
      "outputs": []
    },
    {
      "cell_type": "markdown",
      "source": [
        "## List CUSTOMER_NAME and CUSTOMER_CITY of the customers with more than 2 purchases"
      ],
      "metadata": {
        "id": "ZFo5-3actWWQ"
      }
    },
    {
      "cell_type": "code",
      "source": [
        "conn = sqlite3.connect('sample_db.sqlite')\n",
        "cursor = conn.cursor()\n",
        "\n",
        "\n",
        "cursor.execute('''\n",
        "\n",
        "''')\n",
        "results = cursor.fetchall()\n",
        "\n",
        "# print results as dataframe\n",
        "print(\"\\nCustomers with more than 2 purchases:\")\n",
        "df = pd.DataFrame(results, columns=['Customer Name', 'Customer City'])\n",
        "\n",
        "# Close the connection\n",
        "conn.close()\n",
        "\n",
        "df"
      ],
      "metadata": {
        "id": "nnB9zUEotWdh"
      },
      "execution_count": null,
      "outputs": []
    },
    {
      "cell_type": "markdown",
      "source": [
        "## List the countries with a total number of purchases (i.e. the purchases made by the customers of that country) higher than 3"
      ],
      "metadata": {
        "id": "dLll5MButWoe"
      }
    },
    {
      "cell_type": "code",
      "source": [
        "conn = sqlite3.connect('sample_db.sqlite')\n",
        "cursor = conn.cursor()\n",
        "\n",
        "\n",
        "cursor.execute('''\n",
        "\n",
        "''')\n",
        "results = cursor.fetchall()\n",
        "\n",
        "# print results as dataframe\n",
        "print(\"\\nCountries with a total number of purchases higher than 3:\")\n",
        "df = pd.DataFrame(results, columns=['Country'])\n",
        "\n",
        "# Close the connection\n",
        "conn.close()\n",
        "\n",
        "df"
      ],
      "metadata": {
        "id": "W9Kol9A1tWwx"
      },
      "execution_count": null,
      "outputs": []
    },
    {
      "cell_type": "markdown",
      "source": [
        "## List the type of the most expensive product"
      ],
      "metadata": {
        "id": "zS50BH9dtW9U"
      }
    },
    {
      "cell_type": "code",
      "source": [
        "conn = sqlite3.connect('sample_db.sqlite')\n",
        "cursor = conn.cursor()\n",
        "\n",
        "\n",
        "cursor.execute('''\n",
        "\n",
        "''')\n",
        "results = cursor.fetchall()\n",
        "\n",
        "# print results as dataframe\n",
        "print(\"\\nType of the most expensive product:\")\n",
        "df = pd.DataFrame(results, columns=['Product Type'])\n",
        "\n",
        "# Close the connection\n",
        "conn.close()\n",
        "\n",
        "df"
      ],
      "metadata": {
        "id": "iSamTcDltXFH"
      },
      "execution_count": null,
      "outputs": []
    },
    {
      "cell_type": "markdown",
      "source": [
        "## List, for every product type, the quantity of the most expensive product  "
      ],
      "metadata": {
        "id": "ObxQsI7vuX1n"
      }
    },
    {
      "cell_type": "code",
      "source": [
        "conn = sqlite3.connect('sample_db.sqlite')\n",
        "cursor = conn.cursor()\n",
        "\n",
        "\n",
        "cursor.execute('''\n",
        "\n",
        "''')\n",
        "results = cursor.fetchall()\n",
        "\n",
        "# print results as dataframe\n",
        "print(\"\\nQuantity of the most expensive product for every product type:\")\n",
        "df = pd.DataFrame(results, columns=['Product Type', 'Quantity'])\n",
        "\n",
        "# Close the connection\n",
        "conn.close()\n",
        "\n",
        "df"
      ],
      "metadata": {
        "id": "BHfM_u9RuX9K"
      },
      "execution_count": null,
      "outputs": []
    },
    {
      "cell_type": "markdown",
      "source": [
        "## List, for every PURCHASE_DATE, the customer (name and city) who purchased the most expensive product"
      ],
      "metadata": {
        "id": "GbAEChIFuYI7"
      }
    },
    {
      "cell_type": "code",
      "source": [
        "conn = sqlite3.connect('sample_db.sqlite')\n",
        "cursor = conn.cursor()\n",
        "\n",
        "\n",
        "cursor.execute('''\n",
        "\n",
        "''')\n",
        "results = cursor.fetchall()\n",
        "\n",
        "# print results as dataframe\n",
        "print(\"\\nCustomer (name and city) who purchased the most expensive product for every PURCHASE_DATE:\")\n",
        "df = pd.DataFrame(results, columns=['Purchase Date', 'Customer Name', 'Customer City'])\n",
        "\n",
        "# Close the connection\n",
        "conn.close()\n",
        "\n",
        "df"
      ],
      "metadata": {
        "id": "t-EQmsTbuYQK"
      },
      "execution_count": null,
      "outputs": []
    },
    {
      "cell_type": "markdown",
      "source": [
        "# CTE\n",
        "Definition: A Common Table Expression (**CTE**) is a temporary result set that can be referenced within a SELECT, INSERT, UPDATE, or DELETE statement. It simplifies complex queries by breaking them into smaller, manageable parts. CTEs are particularly useful for improving readability, managing recursive queries, and organizing subqueries in a structured manner.\n",
        "\n",
        "Structure: A CTE is defined using the WITH keyword, followed by the CTE name and a query that returns a result set. It can then be referenced within the main query.\n",
        "\n",
        "Syntax:\n",
        "```\n",
        "WITH cte_name AS (\n",
        "    -- SQL Query\n",
        ")\n",
        "SELECT * FROM cte_name;\n",
        "```\n",
        "\n",
        "## Write a CTE to list the total number of purchases made by each customer in Italy."
      ],
      "metadata": {
        "id": "6vhW_YIzvdPF"
      }
    },
    {
      "cell_type": "code",
      "source": [
        "conn = sqlite3.connect('sample_db.sqlite')\n",
        "cursor = conn.cursor()\n",
        "\n",
        "\n",
        "query = '''\n",
        "WITH Italian_Customers AS (\n",
        "    -- complete here\n",
        ")\n",
        "SELECT IC.NAME, COUNT(P.PURCHASE_DATE) AS total_purchases\n",
        "FROM Italian_Customers IC\n",
        "JOIN PURCHASE P\n",
        "ON IC.NAME = P.CUSTOMER_NAME AND IC.CITY = P.CUSTOMER_CITY\n",
        "GROUP BY IC.NAME;\n",
        "'''\n",
        "\n",
        "# Execute the query\n",
        "cursor.execute(query)\n",
        "\n",
        "results = cursor.fetchall()\n",
        "\n",
        "# print results as dataframe\n",
        "print(\"\\nTotal number of purchases made by each customer in Italy:\")\n",
        "df = pd.DataFrame(results, columns=['Customer Name', 'Total Purchases'])\n",
        "\n",
        "# Close the connection\n",
        "conn.close()\n",
        "\n",
        "df"
      ],
      "metadata": {
        "id": "P54LAnfNvdW0"
      },
      "execution_count": null,
      "outputs": []
    },
    {
      "cell_type": "code",
      "source": [
        "conn = sqlite3.connect('sample_db.sqlite')\n",
        "cursor = conn.cursor()\n",
        "\n",
        "\n",
        "cursor.execute('''\n",
        "\n",
        ")\n",
        "''')\n",
        "results = cursor.fetchall()\n",
        "\n",
        "# print results as dataframe\n",
        "\n",
        "\n",
        "# Close the connection\n",
        "conn.close()\n",
        "\n",
        "df"
      ],
      "metadata": {
        "id": "Uc6CHFSQvdlZ"
      },
      "execution_count": null,
      "outputs": []
    },
    {
      "cell_type": "code",
      "source": [],
      "metadata": {
        "id": "L9INQLfYlbeg"
      },
      "execution_count": null,
      "outputs": []
    }
  ]
}