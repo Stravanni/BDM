{
  "nbformat": 4,
  "nbformat_minor": 0,
  "metadata": {
    "colab": {
      "provenance": [],
      "toc_visible": true,
      "authorship_tag": "ABX9TyP0vkICSpsLVvg3Me7Ttah+",
      "include_colab_link": true
    },
    "kernelspec": {
      "name": "python3",
      "display_name": "Python 3"
    },
    "language_info": {
      "name": "python"
    }
  },
  "cells": [
    {
      "cell_type": "markdown",
      "metadata": {
        "id": "view-in-github",
        "colab_type": "text"
      },
      "source": [
        "<a href=\"https://colab.research.google.com/github/Stravanni/BDM/blob/main/Lab_02_cost_estimatoin.ipynb\" target=\"_parent\"><img src=\"https://colab.research.google.com/assets/colab-badge.svg\" alt=\"Open In Colab\"/></a>"
      ]
    },
    {
      "cell_type": "markdown",
      "source": [
        "# Cost estimation\n",
        "- Gieven an algorithm and the sizes of its input\n",
        "- estimate the cost with the formulas learned during the class"
      ],
      "metadata": {
        "id": "8sWyiMUV4pRg"
      }
    },
    {
      "cell_type": "markdown",
      "source": [
        "## Joins"
      ],
      "metadata": {
        "id": "HGwq9BmThQkZ"
      }
    },
    {
      "cell_type": "code",
      "execution_count": null,
      "metadata": {
        "id": "EWfIYoKTqiwH"
      },
      "outputs": [],
      "source": [
        "# First cell: Import and Input\n",
        "import math\n",
        "\n",
        "# Input parameters\n",
        "R = \"Relation1\"  # Name of first relation\n",
        "S = \"Relation2\"  # Name of second relation\n",
        "\n",
        "# Relations params\n",
        "nR = 10000  # Number of tuples in R\n",
        "nS = 5000  # Number of tuples in S\n",
        "bR = 400  # Number of pages of R\n",
        "bS = 100  # Number of pages of S\n",
        "\n",
        "# System params\n",
        "M = 50  # Number of buffer pages available\n",
        "time_seek = 0.1  # Time for seeking a block from disk (in seconds)\n",
        "time_retrieve = 0.01  # Time for retrieving a block from disk (in seconds)\n",
        "hBTree = 4\n",
        "\n",
        "print(f\"Input parameters set for relations {R} and {S}\")"
      ]
    },
    {
      "cell_type": "markdown",
      "source": [
        "### Nested Loop Join"
      ],
      "metadata": {
        "id": "b1P2jcsZqssH"
      }
    },
    {
      "cell_type": "code",
      "source": [
        "# Nested Loop Join\n",
        "def nested_loop_join(bR,nR, bS,nS, time_seek, time_retrieve, M):\n",
        "  # does one of the two relations fit in memory?\n",
        "  b_smallest_relation = min(bR, bS)\n",
        "  b_biggest_relation = max(bR, bS)\n",
        "  n_smallest_relation = min(nR, nS)\n",
        "  n_biggest_relation = max(nR, nS)\n",
        "\n",
        "  # if smallest_relation fits in memory, i.e., <= M - 2 : # M-2 for one relation, 1 for the other relation, 1 for writing back the output\n",
        "  # use it as innser relation\n",
        "  if b_smallest_relation <= M - 2:\n",
        "    smallest_cost = ...\n",
        "    biggest_cost = ...\n",
        "    return smallest_cost + biggest_cost\n",
        "\n",
        "  # R is the outer relation (i.e., the biggest)\n",
        "  io_cost = ...\n",
        "  seek_cost = ...\n",
        "  time = ...\n",
        "  return time"
      ],
      "metadata": {
        "id": "m8V2hLtZqnE-"
      },
      "execution_count": null,
      "outputs": []
    },
    {
      "cell_type": "code",
      "source": [
        "assert(time_nested==20514.00)"
      ],
      "metadata": {
        "id": "zx-0MFuz2k4G"
      },
      "execution_count": null,
      "outputs": []
    },
    {
      "cell_type": "code",
      "source": [
        "# bS = 48 that is <= 50-2\n",
        "assert(nested_loop_join(bR,nR, 48,nS, time_seek, time_retrieve, M)==40.68)"
      ],
      "metadata": {
        "id": "vkyWX5VD2t43"
      },
      "execution_count": null,
      "outputs": []
    },
    {
      "cell_type": "markdown",
      "source": [
        "### Block Nested Loop Join"
      ],
      "metadata": {
        "id": "pvq80D9hvfk-"
      }
    },
    {
      "cell_type": "code",
      "source": [
        "def nested_block_loop_join(bR,nR, bS,nS, time_seek, time_retrieve, M):\n",
        "  # does one of the two relations fir in memory?\n",
        "  b_smallest_relation = min(bR, bS)\n",
        "  b_biggest_relation = max(bR, bS)\n",
        "  n_smallest_relation = min(nR, nS)\n",
        "  n_biggest_relation = max(nR, nS)\n",
        "\n",
        "  # # we don't need this if, it's already computed later as part of math.ceil(smallest_relation/(M-2))\n",
        "  if b_smallest_relation <= M - 2 : # M-2 for one relation, 1 for the other relation, 1 for writing back the output\n",
        "    return ...\n",
        "\n",
        "  # R is the outer relation, we can use M-2 buffer for the outer relation (to avoid re-reading as much as possible)\n",
        "  num_chunks = ... # M-2 for one relation, 1 for the other relation, 1 for writing back the output\n",
        "  io_cost = ... # Read R once, and for each chunk of S, read all pages of S\n",
        "  seek_cost = ...\n",
        "  time = ...\n",
        "  print(f\"IO: {io_cost}\\nLU: {seek_cost}\")\n",
        "  return time"
      ],
      "metadata": {
        "id": "dvweWNcHq7HZ"
      },
      "execution_count": null,
      "outputs": []
    },
    {
      "cell_type": "code",
      "source": [
        "assert(nested_block_loop_join(bR,nR, bS,nS, time_seek, time_retrieve, 3)==484.00)"
      ],
      "metadata": {
        "id": "viJOvLGI3OfJ"
      },
      "execution_count": null,
      "outputs": []
    },
    {
      "cell_type": "code",
      "source": [
        "assert(nested_block_loop_join(bS,nS,bR,nR, time_seek, time_retrieve, 3)==421.00)"
      ],
      "metadata": {
        "id": "aV9P3LrX3W-C"
      },
      "execution_count": null,
      "outputs": []
    },
    {
      "cell_type": "markdown",
      "source": [
        "### Index Nested Loop Join"
      ],
      "metadata": {
        "id": "hu6JEgT30PoK"
      }
    },
    {
      "cell_type": "code",
      "source": [
        "def nested_index_block_loop_join(bR,nR, bS,nS, tS, tR, M, hBTree):\n",
        "  # R is the external relation\n",
        "  # The index is not in memory\n",
        "  cost_lookup_index = ...\n",
        "  io_cost = ... # one lookup of the index for each tuple in R\n",
        "  seek_cost = ...\n",
        "  ztime_seek = ...\n",
        "  print(f\"IO: {io_cost}\\nLU: {seek_cost}\")\n",
        "  time_retrieve =  ...\n",
        "  time = ...\n",
        "  return time"
      ],
      "metadata": {
        "id": "QRq5D7LcyoL6"
      },
      "execution_count": null,
      "outputs": []
    },
    {
      "cell_type": "code",
      "source": [
        "assert(nested_index_block_loop_join(bR,nR, bS,nS, time_seek, time_retrieve, M, hBTree)==504.00)"
      ],
      "metadata": {
        "id": "455xhMMq3fdT"
      },
      "execution_count": null,
      "outputs": []
    },
    {
      "cell_type": "code",
      "source": [
        "assert(nested_index_block_loop_join(bS,nS, bR,nR, time_seek, time_retrieve, M, hBTree)==251.00)"
      ],
      "metadata": {
        "id": "n6eKP0ES3mUm"
      },
      "execution_count": null,
      "outputs": []
    },
    {
      "cell_type": "markdown",
      "source": [
        "[optional] Modify the code above by considering also:\n",
        "1. the seek time needed to locate the block after the index match\n",
        "2. the case in which all the nodes of the b+tree but the leaf fit in memory"
      ],
      "metadata": {
        "id": "P3-2hbpbMP4L"
      }
    },
    {
      "cell_type": "code",
      "source": [],
      "metadata": {
        "id": "LzJ9hR0WIJA3"
      },
      "execution_count": null,
      "outputs": []
    },
    {
      "cell_type": "markdown",
      "source": [
        "### Merge Join"
      ],
      "metadata": {
        "id": "Zzqaj2Qc3fRu"
      }
    },
    {
      "cell_type": "code",
      "source": [
        "# buffer blocks available for each relations\n",
        "bb = (M/2)-1 if M%2==0 else (M-1)/2\n",
        "\n",
        "def sort_merge_join(bR, bS, tS, tR, bb):\n",
        "  io_cost = ...\n",
        "  seek_cost = ...\n",
        "  ztime_seek = ...\n",
        "  print(f\"IO: {io_cost}\\nLU: {seek_cost}\")\n",
        "  time_retrieve =  ...\n",
        "  time = ...\n",
        "  return time"
      ],
      "metadata": {
        "id": "RfircBTL_J3B"
      },
      "execution_count": null,
      "outputs": []
    },
    {
      "cell_type": "code",
      "source": [
        "assert(sort_merge_join(bR, bS, time_seek, time_retrieve, bb)==5.00)"
      ],
      "metadata": {
        "id": "4GK5GZVw4Adw"
      },
      "execution_count": null,
      "outputs": []
    },
    {
      "cell_type": "code",
      "source": [
        "assert(sort_merge_join(bS, bR, time_seek, time_retrieve, bb)==5.00)"
      ],
      "metadata": {
        "id": "2jzhf2CC4FLm"
      },
      "execution_count": null,
      "outputs": []
    },
    {
      "cell_type": "markdown",
      "source": [
        "## Selection"
      ],
      "metadata": {
        "id": "JatTSfD1ireb"
      }
    },
    {
      "cell_type": "markdown",
      "source": [
        "### A2\n",
        "- Selection with clustering index\n",
        "- Equality on the key"
      ],
      "metadata": {
        "id": "Eq1B30DBHDtw"
      }
    },
    {
      "cell_type": "code",
      "source": [
        "blocks_to_read = hBTree + 1 # the block of the B+Tree + 1 for reading the actual record\n",
        "io_cost =  ...\n",
        "seek_cost = ...\n",
        "time = ...\n",
        "print(f\"Time for Selection: {time:.2f} seconds\")"
      ],
      "metadata": {
        "id": "GwPpwGJXis2t"
      },
      "execution_count": null,
      "outputs": []
    },
    {
      "cell_type": "code",
      "source": [
        "assert(time==0.55)"
      ],
      "metadata": {
        "id": "oxCGUc2d4TpZ"
      },
      "execution_count": null,
      "outputs": []
    },
    {
      "cell_type": "markdown",
      "source": [
        "### A3\n",
        "- Selection with clustering index\n",
        "- Equality on non-key\n",
        "  -- can have duplicates"
      ],
      "metadata": {
        "id": "oY1mPsU9IBsv"
      }
    },
    {
      "cell_type": "code",
      "source": [
        "# number of blocks in which the matching keys are\n",
        "b = 4\n",
        "\n",
        "def select_A3(hBTree, b, time_retrieve, time_seek):\n",
        "  # to read the keys that match the join\n",
        "  time_cost_index = ...\n",
        "\n",
        "  # to read the actual block corresponding to those keys\n",
        "  time_cost_read_from_blocks = ...\n",
        "\n",
        "  time = time_cost_index + time_cost_read_from_blocks\n",
        "\n",
        "  return time\n",
        "\n",
        "time = select_A3(hBTree, b, time_retrieve, time_seek)\n",
        "print(f\"Time for Selection: {time:.2f} seconds\")"
      ],
      "metadata": {
        "id": "By98Q5G3HCPG"
      },
      "execution_count": null,
      "outputs": []
    },
    {
      "cell_type": "code",
      "source": [
        "assert(time==time)"
      ],
      "metadata": {
        "id": "bzeRg7E14ZCN"
      },
      "execution_count": null,
      "outputs": []
    },
    {
      "cell_type": "markdown",
      "source": [
        "What if all the keys are in just one block?"
      ],
      "metadata": {
        "id": "DVwalJbTJ0tz"
      }
    },
    {
      "cell_type": "code",
      "source": [
        "time = select_A3(...)\n",
        "print(f\"Time for Selection: {time:.2f} seconds\")"
      ],
      "metadata": {
        "id": "rwMK5qIgJfqS"
      },
      "execution_count": null,
      "outputs": []
    },
    {
      "cell_type": "code",
      "source": [
        "assert(time==0.55)"
      ],
      "metadata": {
        "id": "JPNdTwCG4c2L"
      },
      "execution_count": null,
      "outputs": []
    },
    {
      "cell_type": "markdown",
      "source": [
        "### A4\n",
        "- Selection with secondary index\n",
        "- Equality on key/non key\n",
        "- The search-key is not a candidate key\n",
        "  - i.e., there can be duplicates spanning multiple blocks"
      ],
      "metadata": {
        "id": "Q6Z9ECclKpqQ"
      }
    },
    {
      "cell_type": "code",
      "source": [
        "# number of matching records\n",
        "n = 4\n",
        "\n",
        "def select_A4(hBTree, n, time_retrieve, time_seek):\n",
        "  # number of block to read per enty in the index that match\n",
        "  block_per_matches = ...\n",
        "  time_io = ...\n",
        "  time_seek = ...\n",
        "  time = ...\n",
        "  return time\n",
        "\n",
        "time = select_A3(hBTree, b, time_retrieve, time_seek)\n",
        "print(f\"Time for Selection: {time:.2f} seconds\")"
      ],
      "metadata": {
        "id": "s_uy-9IvKJ5s"
      },
      "execution_count": null,
      "outputs": []
    },
    {
      "cell_type": "code",
      "source": [
        "assert(time==0.88)"
      ],
      "metadata": {
        "id": "Ud2OemxPTfAS"
      },
      "execution_count": null,
      "outputs": []
    },
    {
      "cell_type": "markdown",
      "source": [
        "## Optional\n",
        "### Hash-join and Recursive Hash-join"
      ],
      "metadata": {
        "id": "pQxPWq0UL3HJ"
      }
    },
    {
      "cell_type": "code",
      "source": [],
      "metadata": {
        "id": "i1GMV5x-L-mo"
      },
      "execution_count": null,
      "outputs": []
    }
  ]
}